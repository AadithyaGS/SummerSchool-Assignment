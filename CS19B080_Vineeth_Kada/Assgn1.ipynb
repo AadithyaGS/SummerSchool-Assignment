{
 "cells": [
  {
   "cell_type": "markdown",
   "id": "eb641e10",
   "metadata": {},
   "source": [
    "# Assignment 1 - DL Summer Camp\n",
    "\n",
    "Name: Vineeth Kada \\\n",
    "Roll No: CS19B080"
   ]
  },
  {
   "cell_type": "markdown",
   "id": "c91495b0",
   "metadata": {},
   "source": [
    "## Question 1\n"
   ]
  },
  {
   "cell_type": "code",
   "execution_count": null,
   "id": "932f6bea",
   "metadata": {},
   "outputs": [],
   "source": []
  }
 ],
 "metadata": {
  "kernelspec": {
   "display_name": "Python 3",
   "language": "python",
   "name": "python3"
  },
  "language_info": {
   "codemirror_mode": {
    "name": "ipython",
    "version": 3
   },
   "file_extension": ".py",
   "mimetype": "text/x-python",
   "name": "python",
   "nbconvert_exporter": "python",
   "pygments_lexer": "ipython3",
   "version": "3.9.5"
  }
 },
 "nbformat": 4,
 "nbformat_minor": 5
}
