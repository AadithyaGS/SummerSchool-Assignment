{
  "nbformat": 4,
  "nbformat_minor": 0,
  "metadata": {
    "colab": {
      "name": "NA19B049.ipynb",
      "provenance": [],
      "collapsed_sections": []
    },
    "kernelspec": {
      "name": "python3",
      "display_name": "Python 3"
    },
    "language_info": {
      "name": "python"
    }
  },
  "cells": [
    {
      "cell_type": "code",
      "metadata": {
        "id": "U_DkMaJt7zB2"
      },
      "source": [
        "#Assignment Question 1\n",
        "import numpy as np\n",
        "import math"
      ],
      "execution_count": 87,
      "outputs": []
    },
    {
      "cell_type": "code",
      "metadata": {
        "colab": {
          "base_uri": "https://localhost:8080/"
        },
        "id": "bc-oArdv_4YJ",
        "outputId": "c37262a3-cfa1-4aa4-f151-ef171fc84148"
      },
      "source": [
        "n = int(input('enter length: '))"
      ],
      "execution_count": null,
      "outputs": [
        {
          "output_type": "stream",
          "text": [
            "enter length: 100\n"
          ],
          "name": "stdout"
        }
      ]
    },
    {
      "cell_type": "code",
      "metadata": {
        "colab": {
          "base_uri": "https://localhost:8080/"
        },
        "id": "mT2dCH608PAj",
        "outputId": "506c7eb8-2385-40f0-bc45-407f874654cd"
      },
      "source": [
        "Y = np.random.rand(n)\n",
        "Y"
      ],
      "execution_count": null,
      "outputs": [
        {
          "output_type": "execute_result",
          "data": {
            "text/plain": [
              "array([0.4685677 , 0.70618012, 0.77012512, 0.77588449, 0.56418276,\n",
              "       0.08252095, 0.00695775, 0.32526534, 0.16487874, 0.47378986,\n",
              "       0.29175995, 0.81862984, 0.56277338, 0.95711376, 0.21281886,\n",
              "       0.37807515, 0.92043155, 0.03914316, 0.49309345, 0.15408048,\n",
              "       0.04561662, 0.5939891 , 0.24942857, 0.99413739, 0.54647912,\n",
              "       0.17451759, 0.7609019 , 0.12869198, 0.64864495, 0.9407207 ,\n",
              "       0.14687313, 0.22111537, 0.57001113, 0.62045327, 0.75894626,\n",
              "       0.33765442, 0.11478816, 0.2389124 , 0.4916705 , 0.61745104,\n",
              "       0.6330763 , 0.51462413, 0.0922649 , 0.52069235, 0.37497379,\n",
              "       0.28853216, 0.72119842, 0.94989579, 0.80920435, 0.21447103,\n",
              "       0.06482427, 0.79962249, 0.79544785, 0.47760858, 0.44765677,\n",
              "       0.44076264, 0.96538126, 0.24148257, 0.80495409, 0.64128132,\n",
              "       0.09428691, 0.89651583, 0.24455087, 0.5120907 , 0.20704435,\n",
              "       0.19277823, 0.89124813, 0.27282381, 0.94054643, 0.77918847,\n",
              "       0.02630712, 0.79041784, 0.49116459, 0.78944792, 0.47089566,\n",
              "       0.29964286, 0.68438   , 0.20748732, 0.03322112, 0.4872879 ,\n",
              "       0.10667997, 0.74543447, 0.21461519, 0.62226622, 0.25509029,\n",
              "       0.52369046, 0.38647534, 0.99207129, 0.20714648, 0.98607828,\n",
              "       0.32519129, 0.53352323, 0.32248345, 0.10654547, 0.22265007,\n",
              "       0.79794959, 0.06700827, 0.9182957 , 0.38008292, 0.54115305])"
            ]
          },
          "metadata": {
            "tags": []
          },
          "execution_count": 29
        }
      ]
    },
    {
      "cell_type": "code",
      "metadata": {
        "colab": {
          "base_uri": "https://localhost:8080/"
        },
        "id": "zyrEZ3Fz8nYX",
        "outputId": "bfcc465b-8b8f-4184-cb36-062c90d072a8"
      },
      "source": [
        "Ycap = np.random.rand(n)\n",
        "Ycap"
      ],
      "execution_count": null,
      "outputs": [
        {
          "output_type": "execute_result",
          "data": {
            "text/plain": [
              "array([0.83633285, 0.64954696, 0.5667874 , 0.91852709, 0.92521426,\n",
              "       0.99824419, 0.78160814, 0.29237222, 0.08152658, 0.96750509,\n",
              "       0.79030849, 0.12390617, 0.22216288, 0.31284618, 0.84734004,\n",
              "       0.17300892, 0.90780689, 0.77465743, 0.00259266, 0.76086801,\n",
              "       0.13133906, 0.82789531, 0.93286239, 0.4545544 , 0.4051433 ,\n",
              "       0.20393603, 0.60537631, 0.22267656, 0.46859423, 0.47812924,\n",
              "       0.0393038 , 0.00210076, 0.77730959, 0.86490745, 0.65884573,\n",
              "       0.75333617, 0.19663   , 0.62768366, 0.09552048, 0.40090571,\n",
              "       0.82340016, 0.71889249, 0.08596694, 0.30467154, 0.25824299,\n",
              "       0.61230129, 0.64951064, 0.29259591, 0.1388414 , 0.99538102,\n",
              "       0.25160219, 0.82294606, 0.28538576, 0.69985463, 0.43738686,\n",
              "       0.54544125, 0.88097412, 0.77145375, 0.34670191, 0.22041882,\n",
              "       0.22703894, 0.30177919, 0.45952388, 0.2018469 , 0.90383697,\n",
              "       0.06617411, 0.3227167 , 0.70963053, 0.01135783, 0.41459667,\n",
              "       0.09466103, 0.02440835, 0.45033301, 0.22643945, 0.09974556,\n",
              "       0.11921271, 0.80963087, 0.34033691, 0.0046901 , 0.70639835,\n",
              "       0.66782515, 0.67461018, 0.83948234, 0.93078253, 0.64332438,\n",
              "       0.86072805, 0.2665571 , 0.87907625, 0.99599764, 0.52162008,\n",
              "       0.4965712 , 0.84790146, 0.32502345, 0.88317061, 0.14846255,\n",
              "       0.17793611, 0.16318813, 0.25850288, 0.47063462, 0.95463745])"
            ]
          },
          "metadata": {
            "tags": []
          },
          "execution_count": 30
        }
      ]
    },
    {
      "cell_type": "code",
      "metadata": {
        "id": "a8sFMzan9Sd9"
      },
      "source": [
        "Y[Y <= 0.5] = 0\n",
        "Y[Y != 0] = 1    \n",
        "    "
      ],
      "execution_count": null,
      "outputs": []
    },
    {
      "cell_type": "code",
      "metadata": {
        "colab": {
          "base_uri": "https://localhost:8080/"
        },
        "id": "849D_RlR9nVv",
        "outputId": "b8e18368-84ac-4482-9bff-c67c30090968"
      },
      "source": [
        "Y\n"
      ],
      "execution_count": null,
      "outputs": [
        {
          "output_type": "execute_result",
          "data": {
            "text/plain": [
              "array([0., 1., 1., 1., 1., 0., 0., 0., 0., 0., 0., 1., 1., 1., 0., 0., 1.,\n",
              "       0., 0., 0., 0., 1., 0., 1., 1., 0., 1., 0., 1., 1., 0., 0., 1., 1.,\n",
              "       1., 0., 0., 0., 0., 1., 1., 1., 0., 1., 0., 0., 1., 1., 1., 0., 0.,\n",
              "       1., 1., 0., 0., 0., 1., 0., 1., 1., 0., 1., 0., 1., 0., 0., 1., 0.,\n",
              "       1., 1., 0., 1., 0., 1., 0., 0., 1., 0., 0., 0., 0., 1., 0., 1., 0.,\n",
              "       1., 0., 1., 0., 1., 0., 1., 0., 0., 0., 1., 0., 1., 0., 1.])"
            ]
          },
          "metadata": {
            "tags": []
          },
          "execution_count": 32
        }
      ]
    },
    {
      "cell_type": "code",
      "metadata": {
        "colab": {
          "base_uri": "https://localhost:8080/"
        },
        "id": "Q-OVr2hQ-xwe",
        "outputId": "04502912-6b14-48f5-c76d-4c9b189a9d23"
      },
      "source": [
        "\n",
        "Ofunc = 0\n",
        "for i in range(n):\n",
        "  Onew = ((Y[i])*(math.log(2,Ycap[i]))+(1 - Y[i])*(math.log(2,(1 - Ycap[i]))))\n",
        "  Ofunc += Onew\n",
        "\n",
        "Ofunc = (-1/n)*Ofunc\n",
        "print(Ofunc)"
      ],
      "execution_count": 96,
      "outputs": [
        {
          "output_type": "stream",
          "text": [
            "9.858048418627375\n"
          ],
          "name": "stdout"
        }
      ]
    },
    {
      "cell_type": "code",
      "metadata": {
        "colab": {
          "base_uri": "https://localhost:8080/"
        },
        "id": "j7Q61sILRnbg",
        "outputId": "85887d85-b0e2-44c9-a352-db64a1c70c84"
      },
      "source": [
        "#Assignment Question 2\n",
        "lst1 = [int(item) for item in input(\"Enter the list items : \").split()]\n",
        "N  = int(input('target number: '))\n",
        "outputd = dict()\n",
        "total_combinations = len(lst1)*len(lst1)\n",
        "t = 1\n",
        "for i in range(len(lst1)):\n",
        "\n",
        "  for j in range(len(lst1)):\n",
        "    if (lst1[i] + lst1[j]) == N :\n",
        "      outputd[t] = [i , j]\n",
        "      t = t + 1 \n",
        "    if t > total_combinations:\n",
        "      break\n",
        "print(outputd)\n",
        "    \n",
        "\n",
        "\n"
      ],
      "execution_count": 95,
      "outputs": [
        {
          "output_type": "stream",
          "text": [
            "Enter the list items : 1 2 3\n",
            "target number: 3\n",
            "{1: [0, 1], 2: [1, 0]}\n"
          ],
          "name": "stdout"
        }
      ]
    }
  ]
}