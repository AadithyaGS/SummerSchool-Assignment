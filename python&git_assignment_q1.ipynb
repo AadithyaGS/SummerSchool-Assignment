{
  "nbformat": 4,
  "nbformat_minor": 0,
  "metadata": {
    "colab": {
      "name": "python&git_assignment_q1.ipynb",
      "provenance": [],
      "authorship_tag": "ABX9TyM2ZEvep3SGDU7apNJOnXFn",
      "include_colab_link": true
    },
    "kernelspec": {
      "name": "python3",
      "display_name": "Python 3"
    },
    "language_info": {
      "name": "python"
    }
  },
  "cells": [
    {
      "cell_type": "markdown",
      "metadata": {
        "id": "view-in-github",
        "colab_type": "text"
      },
      "source": [
        "<a href=\"https://colab.research.google.com/github/Narasimhan07/SummerSchool-Assignment/blob/main/python%26git_assignment_q1.ipynb\" target=\"_parent\"><img src=\"https://colab.research.google.com/assets/colab-badge.svg\" alt=\"Open In Colab\"/></a>"
      ]
    },
    {
      "cell_type": "code",
      "metadata": {
        "id": "5L6PKRYsU34N"
      },
      "source": [
        "import numpy as np\n",
        "import math"
      ],
      "execution_count": 17,
      "outputs": []
    },
    {
      "cell_type": "code",
      "metadata": {
        "colab": {
          "base_uri": "https://localhost:8080/"
        },
        "id": "RJt9Qzd-sSwy",
        "outputId": "af7d317e-123f-49a5-e1d6-1e165590d65a"
      },
      "source": [
        "N = int(input())                   # taking input from user, n value\n",
        "a = 1/(math.log(2))                # just finding the value of log2 for future use\n",
        "arr = np.ones((1,N))               # forming arrays y and y cap\n",
        "ycap = np.random.rand(1,N)\n",
        "y = np.random.randint(0,2,(1,N))\n"
      ],
      "execution_count": 18,
      "outputs": [
        {
          "output_type": "stream",
          "text": [
            "100\n"
          ],
          "name": "stdout"
        }
      ]
    },
    {
      "cell_type": "code",
      "metadata": {
        "colab": {
          "base_uri": "https://localhost:8080/"
        },
        "id": "RQ0gbjnXuU3e",
        "outputId": "6a2ce2bb-bbce-4d2a-9466-4dfb5c8381fc"
      },
      "source": [
        "ycap_modified = arr - ycap         # forming i-y and 1-y cap arrays\n",
        "y_modified = arr - y\n",
        "ycap_log2 = a*np.log(ycap)         # forming log2(i-y cap) and log2(y cap) arrays\n",
        "ycap_modified_log2 = a*np.log(ycap_modified)\n",
        "O_function = (1/N)*(y*ycap_log2 + y_modified*ycap_modified_log2)                # calculating the arrays within the summation in the cross entropy loss function\n",
        "O_value = 0\n",
        "for i in range(0,N):               # summing all the values to obtain final result\n",
        "  O_value = O_value + O_function[0,i]\n",
        "print(O_value)\n",
        "\n"
      ],
      "execution_count": 20,
      "outputs": [
        {
          "output_type": "stream",
          "text": [
            "-1.194956682927091\n"
          ],
          "name": "stdout"
        }
      ]
    }
  ]
}